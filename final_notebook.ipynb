{
 "cells": [
  {
   "cell_type": "markdown",
   "metadata": {},
   "source": [
    "# Final Assignment Notebook\n",
    "\n",
    "The code below belongs to Group D and is for the Final Assignment of CSCK503 Machine Learning in Practice. The scenario for building this ML model can be seen below.\n",
    "\n",
    "You have been engaged as a contract data scientist by Athana Data Science Services (ADSS), a small company specialising in the provision of data science consultancy services to public and private sector organisations. ADSS have just been awarded a contract by a government department (the Department of Environment) to help with the development of machine learning-based models for predicting atmospheric emissions (and pollution) from data gathered by various borough and county environment monitoring units. Your team leader wants you to assist with this project, and you will be required to carry out a number of tasks using the Anaconda/Scikit-Learn Python ML framework and its components."
   ]
  },
  {
   "cell_type": "markdown",
   "metadata": {},
   "source": [
    "## Import Libraries"
   ]
  },
  {
   "cell_type": "code",
   "execution_count": 7,
   "metadata": {},
   "outputs": [],
   "source": [
    "import pandas as pd\n",
    "import numpy as np\n",
    "from sklearn.preprocessing import LabelEncoder\n",
    "import matplotlib.pyplot as plt\n",
    "from sklearn.model_selection import train_test_split\n",
    "from sklearn.linear_model import LinearRegression\n",
    "from sklearn.tree import DecisionTreeRegressor\n",
    "from sklearn.metrics import mean_squared_error\n",
    "from sklearn.metrics import mean_squared_error, mean_absolute_error, r2_score\n",
    "from sklearn.preprocessing import StandardScaler"
   ]
  },
  {
   "cell_type": "markdown",
   "metadata": {},
   "source": [
    "## Load in datasets and concatenate dataframes"
   ]
  },
  {
   "cell_type": "code",
   "execution_count": 2,
   "metadata": {},
   "outputs": [
    {
     "name": "stdout",
     "output_type": "stream",
     "text": [
      "<class 'pandas.core.frame.DataFrame'>\n",
      "Index: 1574746 entries, 0 to 402841\n",
      "Data columns (total 35 columns):\n",
      " #   Column                Non-Null Count    Dtype  \n",
      "---  ------                --------------    -----  \n",
      " 0   GridId                1574746 non-null  int64  \n",
      " 1   Toid                  1574746 non-null  int64  \n",
      " 2   GRID_ExactCut_ID      1574746 non-null  int64  \n",
      " 3   Location_ExactCut     1574746 non-null  object \n",
      " 4   BoroughExactCut       402842 non-null   object \n",
      " 5   Lts                   1574746 non-null  int64  \n",
      " 6   Length (m)            1574746 non-null  float64\n",
      " 7   Emissions             1574746 non-null  object \n",
      " 8   Year                  1574746 non-null  int64  \n",
      " 9   Pollutant             1574746 non-null  object \n",
      " 10  Emissions Unit        1574746 non-null  object \n",
      " 11  Motorcycle            1574746 non-null  float64\n",
      " 12  Taxi                  1574746 non-null  float64\n",
      " 13  Car                   1574746 non-null  float64\n",
      " 14  BusAndCoach           1574746 non-null  float64\n",
      " 15  Lgv                   1574746 non-null  float64\n",
      " 16  Rigid                 1574746 non-null  float64\n",
      " 17  Artic                 1574746 non-null  float64\n",
      " 18  Rigid2Axle            1574746 non-null  float64\n",
      " 19  Rigid3Axle            1574746 non-null  float64\n",
      " 20  Rigid4Axle            1574746 non-null  float64\n",
      " 21  Artic3Axle            1574746 non-null  float64\n",
      " 22  Artic5Axle            1574746 non-null  float64\n",
      " 23  Artic6Axle            1574746 non-null  float64\n",
      " 24  PetrolCar             1574746 non-null  float64\n",
      " 25  DieselCar             1574746 non-null  float64\n",
      " 26  PetrolLgv             1574746 non-null  float64\n",
      " 27  DieselLgv             1574746 non-null  float64\n",
      " 28  LtBus                 1574746 non-null  float64\n",
      " 29  Coach                 1574746 non-null  float64\n",
      " 30  ElectricCar           1574746 non-null  float64\n",
      " 31  ElectricLgv           1574746 non-null  float64\n",
      " 32  Borough_ExactCut      402842 non-null   object \n",
      " 33  BoroughName_ExactCut  769062 non-null   object \n",
      " 34  DotRef                0 non-null        float64\n",
      "dtypes: float64(23), int64(5), object(7)\n",
      "memory usage: 432.5+ MB\n"
     ]
    }
   ],
   "source": [
    "df_2008_org = pd.read_excel('Major Roads/LAEI2013_MajorRoads_EmissionsbyLink_2008.xlsx')\n",
    "df_2010_org = pd.read_excel('Major Roads/LAEI2013_MajorRoads_EmissionsbyLink_2010.xlsx')\n",
    "df_2013_org = pd.read_excel('Major Roads/LAEI2013_MajorRoads_EmissionsbyLink_2013.xlsx')\n",
    "df_2020_org = pd.read_excel('Major Roads/LAEI2013_MajorRoads_EmissionsbyLink_2020.xlsx')\n",
    "\n",
    "main_df = pd.concat([df_2008_org, df_2010_org, df_2013_org, df_2020_org])\n",
    "main_df.info()"
   ]
  },
  {
   "cell_type": "markdown",
   "metadata": {},
   "source": [
    "## Function to convert all object columns to Numeric Encoding"
   ]
  },
  {
   "cell_type": "code",
   "execution_count": 3,
   "metadata": {},
   "outputs": [],
   "source": [
    "def convert_object_columns_to_numeric(df):\n",
    "    \"\"\"\n",
    "        This function takes a dataframe and will first find all object type columns, loop through each of them and encode them using a LabelEncoder object. This will ensure\n",
    "        that the dataframe will not contain anymore object columns.\n",
    "    \"\"\"\n",
    "\n",
    "    label_encoder = LabelEncoder()\n",
    "    categorical_columns = df.select_dtypes(include=['object']).columns # Code to find all column names that are object type\n",
    "    df_encoded = df.copy()\n",
    "\n",
    "    for col in categorical_columns:\n",
    "        df_encoded[col] = label_encoder.fit_transform(df_encoded[col]) # Label encode each object type column\n",
    "        df_encoded[col] = df_encoded[col].astype(int) # And convert the column to integer\n",
    "\n",
    "    df_encoded.info()\n",
    "    return df_encoded"
   ]
  },
  {
   "cell_type": "code",
   "execution_count": 4,
   "metadata": {},
   "outputs": [],
   "source": [
    "def split_data_based_on_target_label(df, target_column, test_year):\n",
    "    \"\"\"\n",
    "        This function is responsible for taking in a dataframe, a target column, and a test year and will split the dataframe into an X and Y dataframe based on the target column.\n",
    "        Then will take all rows with a Year value of less than the test_year and will use this as the training set and everything equal to or above the test year is part of the test set.\n",
    "        E.g. if test_year = 2020 then all rows < 2020 will be training and all >= 2020 will be part of the test set.\n",
    "    \"\"\"\n",
    "    train_set = df[df['Year'] < test_year]\n",
    "    test_set = df[df['Year'] >= test_year]\n",
    "\n",
    "    X_train = train_set.drop(target_column, axis=1)\n",
    "    y_train = train_set[target_column]\n",
    "\n",
    "    X_test = test_set.drop(target_column, axis=1)\n",
    "    y_test = test_set[target_column]\n",
    "\n",
    "    return X_train, X_test, y_train, y_test"
   ]
  },
  {
   "cell_type": "code",
   "execution_count": 5,
   "metadata": {},
   "outputs": [],
   "source": [
    "def train_and_analyze_model(X_train, y_train, X_test, y_test, model, model_type):\n",
    "    model.fit(X_train, y_train)\n",
    "\n",
    "    predictions = model.predict(X_test)\n",
    "    mse = mean_squared_error(y_test, predictions)\n",
    "    print(\"Mean Squared Error (MSE):\", mse)\n",
    "\n",
    "    # Root Mean Squared Error (RMSE)\n",
    "    rmse = np.sqrt(mse)\n",
    "    print(\"Root Mean Squared Error (RMSE):\", rmse)\n",
    "\n",
    "    # Mean Absolute Error (MAE)\n",
    "    mae = mean_absolute_error(y_test, predictions)\n",
    "    print(\"Mean Absolute Error (MAE):\", mae)\n",
    "\n",
    "    # R-squared (R2) Score\n",
    "    r2 = r2_score(y_test, predictions)\n",
    "    print(\"R-squared (R2) Score:\", r2)\n",
    "\n",
    "    # Plotting actual vs predicted values\n",
    "    plt.scatter(y_test, predictions)\n",
    "    plt.xlabel('Actual values')\n",
    "    plt.ylabel('Predicted values')\n",
    "    plt.title(model_type + ' Actual vs. Predicted Values')\n",
    "    # Plotting the identity line; perfect predictions would lie on this line\n",
    "    plt.plot([y_test.min(), y_test.max()], [y_test.min(), y_test.max()], 'k--', lw=4)\n",
    "    plt.show()\n",
    "    \n",
    "    return mse, rmse"
   ]
  },
  {
   "cell_type": "code",
   "execution_count": 6,
   "metadata": {},
   "outputs": [],
   "source": [
    "def split_dataset_and_train_models(df, target_column, model_list):\n",
    "    df_encoded = convert_object_columns_to_numeric(df)\n",
    "    X_train, X_test, y_train, y_test = split_data_based_on_target_label(df_encoded, target_column)\n",
    "    lowest_mse_algorithm = \"\"\n",
    "    lowest_mse = 999999\n",
    "    lowest_rmse_algorithm = \"\"\n",
    "    lowest_rmse = 999999\n",
    "    for model in model_list:\n",
    "        if model != \"NeuralNetwork\":\n",
    "            mse, rmse = train_and_analyze_model(X_train, y_train, X_test, y_test, model_list[model], model)\n",
    "        else:\n",
    "            my_function =model_list[model]\n",
    "        if mse < lowest_mse:\n",
    "            lowest_mse = mse\n",
    "            lowest_mse_algorithm = model\n",
    "    \n",
    "        if rmse < lowest_rmse:\n",
    "            lowest_rmse = rmse\n",
    "            lowest_rmse_algorithm = model\n",
    "\n",
    "    print(f\"Best performing algorithm according to Mean Squared Error is {lowest_mse_algorithm} and has a value of {lowest_mse}\")\n",
    "    print(f\"Best performing algorithm according to Root Mean Squared Error is {lowest_rmse_algorithm} and has a value of {lowest_rmse}\")"
   ]
  },
  {
   "cell_type": "code",
   "execution_count": null,
   "metadata": {},
   "outputs": [],
   "source": [
    "model_list = {\"LinearRegression\": LinearRegression(), \"DecisionTreeRegressor\": DecisionTreeRegressor(), \"NeuralNetwork\": build_neural_network()}\n",
    "\n",
    "\n",
    "split_dataset_and_train_models(main_df, \"PetrolCar\", model_list)"
   ]
  }
 ],
 "metadata": {
  "kernelspec": {
   "display_name": "Python 3",
   "language": "python",
   "name": "python3"
  },
  "language_info": {
   "codemirror_mode": {
    "name": "ipython",
    "version": 3
   },
   "file_extension": ".py",
   "mimetype": "text/x-python",
   "name": "python",
   "nbconvert_exporter": "python",
   "pygments_lexer": "ipython3",
   "version": "3.11.4"
  }
 },
 "nbformat": 4,
 "nbformat_minor": 2
}
